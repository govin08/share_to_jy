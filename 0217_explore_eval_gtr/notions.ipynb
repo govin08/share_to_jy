{
 "cells": [
  {
   "cell_type": "markdown",
   "metadata": {},
   "source": [
    "특정한 교차로 $J$의 특정한 이동류 $i$에 대하여\n",
    "\n",
    "|기호|이름|영문명|단위|설명|\n",
    "|:-:|:-:|:-:|:-:|:-:|\n",
    "|$g_i$|녹색시간|green time|s|이동류 $i$가 현시되는 시간|\n",
    "|$C$|주기|cycle|s||\n",
    "|$V_i$|교통류율(교통량)|demand|vph|단위시간(1시간)동안 해당 이동류로 이동한 차량의 실제 대수|\n",
    "|$S_i$|포화교통류율|saturation flow rate|vph|녹색시간이 지속된다고 가정할 때의 교통류율 (최대교통류율)|\n",
    "|$y_i=\\frac{V_i}{S_i}$|교통량비|flow rate||교통류율 대 포화교통류율의 비|\n",
    "|$c_i={S_i}\\times\\frac{g_i}{C}$|용량|capacity|vph|이동류 $i$에 대한 최대교통류율|\n",
    "|$x_i=\\frac {V_i}{c_i}$|포화도|degree of saturation||교통류율 대 용량의 비|\n",
    "\n",
    "- 단위 vph(vehicles per hour)에 대하여는, 경우에 따라서는 pcphgpl(passenger car per hour of green time per lane)을 단위로 쓰기도 한다.\n",
    "  두 단위는 \"per lane\"이라는 표현을 제외하면 같은 말이지만, vph를 단위로 하는 대상들이 각 이동류에 대하여 정의되고 있으므로 \"per lane\"이 의미가 없다.\n",
    "  따라서 현재 맥락에서는 사실상 같은 단위라고 보아도 무방하다.\n",
    "- 일반적으로 $V_i\\le S_i$가 성립한다. 말하자면, $V_i$의 최댓값이 $S_i$이다. 따라서 $0\\le y_i\\le 1$이다.\n",
    "- 또한, 당연히 $g_i\\le C$가 성립한다. 따라서 $0\\le c_i\\le S_i$가 성립한다.\n",
    "- $V_i$는 해당 이동류로 '실제로' 이동한 차량의 대수와 관련이 있다. 그리고, $c_i$는 이동류 $i$의 현시시간동안 이동할 수 있는 차량의 최대 대수와 관련이 있다.\n",
    "  $$x_i = \\frac{V_i}{c_i}=\\frac{\\text{(이동류 $i$에 대한 `실제' 이동류율)}}{\\text{(이동류 $i$에 대한 `최대' 이동류율)}}$$\n",
    "  따라서 보통의 경우 $V_i\\le c_i$가 성립하며, 따라서 $0\\le x_i\\le1$이다.\n",
    "  하지만, 현시시간 외에도 차량이 이동류 $i$로 이동할 가능성이 있으므로 (적색신호에도 이동) $x_i>1$일 가능성도 있다."
   ]
  }
 ],
 "metadata": {
  "language_info": {
   "name": "python"
  }
 },
 "nbformat": 4,
 "nbformat_minor": 2
}
