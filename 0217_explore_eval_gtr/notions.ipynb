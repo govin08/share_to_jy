{
 "cells": [
  {
   "cell_type": "markdown",
   "metadata": {},
   "source": [
    "특정한 교차로 $J$의 특정한 이동류 $i$에 대하여\n",
    "\n",
    "|기호|이름|영문명|단위|설명|\n",
    "|:-:|:-:|:-:|:-:|:-:|\n",
    "|$g_i$|녹색시간|green time|s|이동류 $i$가 현시되는 시간|\n",
    "|$C$|주기|cycle|s||\n",
    "|$V_i$|교통류율(교통량)|demand|vph|단위시간(1시간)동안 해당 이동류로 이동하려고 하는 차량의 대수|\n",
    "|$S_i$|포화교통류율|saturation flow rate|vph|녹색시간이 지속된다고 가정할 때의 교통류율 (최대교통류율)|\n",
    "|$y_i=\\frac{V_i}{S_i}$|교통량비|flow rate||교통류율 대 포화교통류율의 비|\n",
    "|$c_i={S_i}\\times\\frac{g_i}{C}$|용량|capacity|vph|이동류 $i$에 대한 최대교통류율|\n",
    "|$x_i=\\frac {V_i}{c_i}$|포화도|degree of saturation||교통류율 대 용량의 비|\n",
    "\n",
    "- 단위 vph(vehicles per hour)에 대하여는, 경우에 따라서는 pcphgpl(passenger car per hour of green time per lane)을 단위로 쓰기도 한다.\n",
    "  두 단위는 \"per lane\"이라는 표현을 제외하면 같은 말이지만, vph를 단위로 하는 대상들이 각 이동류에 대하여 정의되고 있으므로 \"per lane\"이 의미가 없다.\n",
    "  따라서 현재 맥락에서는 사실상 같은 단위라고 보아도 무방하다.\n",
    "- $V_i$는 해당 이동류를 거쳐간 실제 차량 대수를 의미하지 않는다.\n",
    "  따라서, $V_i\\le S_i$가 일반적으로 성립하지 않는다.\n",
    "  만약 교통정체가 발생하면 $V_i\\gt S_i$ 인 상황이 발생할 수 있다.\n",
    "  따라서 교통정체가 없다면 $y_i\\le1$이겠지만, 교통정체가 발생하면 $y_i\\gt1$인 경우가 생길 수 있다.\n",
    "- 일반적으로 $g_i\\le C$가 성립한다. 따라서 $0\\le c_i\\le S_i$가 성립한다.\n",
    "- $V_i\\lt c_i$이면 교통량이 용량보다 적으므로 원활하게 교통이 이루어진다.\n",
    "  반면, $V_i\\gt c_i$이면, 교통량이 용량을 넘어서므로 지체가 발생한다.\n",
    "  따라서, $0\\le x_i\\le 1$와 같은 부등식은 일반적으로 성립하지 않는다.\n",
    "  $x_i$는 1을 초과할 수 있다."
   ]
  }
 ],
 "metadata": {
  "language_info": {
   "name": "python"
  }
 },
 "nbformat": 4,
 "nbformat_minor": 2
}
